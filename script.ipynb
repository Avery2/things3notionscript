{
 "cells": [
  {
   "cell_type": "code",
   "execution_count": 1,
   "metadata": {},
   "outputs": [],
   "source": [
    "import os\n",
    "from dotenv import load_dotenv\n",
    "import time\n",
    "from notion_client import Client\n",
    "import thingsnotion as tn"
   ]
  },
  {
   "cell_type": "code",
   "execution_count": 2,
   "metadata": {},
   "outputs": [],
   "source": [
    "load_dotenv()\n",
    "my_key = os.getenv(\"DB_ID\")\n",
    "my_token = os.getenv(\"NOTION_TOKEN\")\n",
    "tokenv2 = os.getenv(\"TOKEN_V2\")"
   ]
  },
  {
   "cell_type": "code",
   "execution_count": 3,
   "metadata": {},
   "outputs": [],
   "source": [
    "\n",
    "my_playground = tn.getProject(\"my_playground\")\n",
    "things_thoughts = tn.title_notes(my_playground)\n"
   ]
  },
  {
   "cell_type": "code",
   "execution_count": 4,
   "metadata": {},
   "outputs": [],
   "source": [
    "notion = Client(auth=my_token)\n",
    "\n",
    "my_database = tn.getDatabase(notion, \"Test Database\")\n",
    "# all_pages = notion.databases.query(my_database['id'])\n",
    "\n",
    "PARENT_DB = {\n",
    "    \"database_id\": my_database['id']\n",
    "}\n",
    "\n",
    "t = time.strftime(\"%H:%M:%S\", time.localtime())\n",
    "PROPERTIES = {\n",
    "    \"title\": [{\"type\": \"text\", \"text\": {\"content\": f\"{t}\"}}],\n",
    "}\n",
    "\n",
    "CHILDREN = [\n",
    "    {\n",
    "        \"object\": 'block',\n",
    "        \"type\": 'heading_2',\n",
    "        \"heading_2\": {\n",
    "            \"text\": [\n",
    "              {\n",
    "                  \"type\": 'text',\n",
    "                  \"text\": {\n",
    "                      \"content\": 'Lacinato kale',\n",
    "                  },\n",
    "              },\n",
    "            ],\n",
    "        },\n",
    "    },\n",
    "    {\n",
    "        \"object\": 'block',\n",
    "        \"type\": 'paragraph',\n",
    "        \"paragraph\": {\n",
    "            \"text\": [\n",
    "              {\n",
    "                  \"type\": 'text',\n",
    "                  \"text\": {\n",
    "                      \"content\": 'Lacinato kale is a variety of kale with a long tradition in Italian cuisine, especially that of Tuscany. It is also known as Tuscan kale, Italian kale, dinosaur kale, kale, flat back kale, palm tree kale, or black Tuscan palm.',\n",
    "                      \"link\": {\n",
    "                          \"url\": 'https://en.wikipedia.org/wiki/Lacinato_kale',\n",
    "                      },\n",
    "                  },\n",
    "              },\n",
    "            ],\n",
    "        },\n",
    "    },\n",
    "]"
   ]
  },
  {
   "cell_type": "code",
   "execution_count": 5,
   "metadata": {},
   "outputs": [
    {
     "data": {
      "text/plain": [
       "{'object': 'list',\n",
       " 'results': [{'object': 'block',\n",
       "   'id': '37777668-b8f4-438d-86f8-6db8b4fca628',\n",
       "   'created_time': '2021-12-01T03:21:00.000Z',\n",
       "   'last_edited_time': '2021-12-01T03:21:00.000Z',\n",
       "   'has_children': False,\n",
       "   'archived': False,\n",
       "   'type': 'heading_2',\n",
       "   'heading_2': {'text': [{'type': 'text',\n",
       "      'text': {'content': 'Lacinato kale', 'link': None},\n",
       "      'annotations': {'bold': False,\n",
       "       'italic': False,\n",
       "       'strikethrough': False,\n",
       "       'underline': False,\n",
       "       'code': False,\n",
       "       'color': 'default'},\n",
       "      'plain_text': 'Lacinato kale',\n",
       "      'href': None}]}},\n",
       "  {'object': 'block',\n",
       "   'id': '82c44bb6-f067-4c27-ab65-f68012171f33',\n",
       "   'created_time': '2021-12-01T03:21:00.000Z',\n",
       "   'last_edited_time': '2021-12-01T03:21:00.000Z',\n",
       "   'has_children': False,\n",
       "   'archived': False,\n",
       "   'type': 'paragraph',\n",
       "   'paragraph': {'text': [{'type': 'text',\n",
       "      'text': {'content': 'Lacinato kale is a variety of kale with a long tradition in Italian cuisine, especially that of Tuscany. It is also known as Tuscan kale, Italian kale, dinosaur kale, kale, flat back kale, palm tree kale, or black Tuscan palm.',\n",
       "       'link': {'url': 'https://en.wikipedia.org/wiki/Lacinato_kale'}},\n",
       "      'annotations': {'bold': False,\n",
       "       'italic': False,\n",
       "       'strikethrough': False,\n",
       "       'underline': False,\n",
       "       'code': False,\n",
       "       'color': 'default'},\n",
       "      'plain_text': 'Lacinato kale is a variety of kale with a long tradition in Italian cuisine, especially that of Tuscany. It is also known as Tuscan kale, Italian kale, dinosaur kale, kale, flat back kale, palm tree kale, or black Tuscan palm.',\n",
       "      'href': 'https://en.wikipedia.org/wiki/Lacinato_kale'}]}}],\n",
       " 'next_cursor': None,\n",
       " 'has_more': False}"
      ]
     },
     "execution_count": 5,
     "metadata": {},
     "output_type": "execute_result"
    }
   ],
   "source": [
    "created_page = notion.pages.create(\n",
    "    **{\n",
    "        \"parent\": PARENT_DB,\n",
    "        \"properties\": PROPERTIES\n",
    "    }\n",
    ")\n",
    "\n",
    "notion.blocks.children.append(block_id=created_page['id'], **{\n",
    "    \"children\": CHILDREN\n",
    "})"
   ]
  }
 ],
 "metadata": {
  "interpreter": {
   "hash": "eb9a3b69315989b71ebfa9a6e5d99cd0b47220ba2e2aefc36423c82f8837c3dc"
  },
  "kernelspec": {
   "display_name": "Python 3.8.5 64-bit ('base': conda)",
   "language": "python",
   "name": "python3"
  },
  "language_info": {
   "codemirror_mode": {
    "name": "ipython",
    "version": 3
   },
   "file_extension": ".py",
   "mimetype": "text/x-python",
   "name": "python",
   "nbconvert_exporter": "python",
   "pygments_lexer": "ipython3",
   "version": "3.8.5"
  },
  "orig_nbformat": 4
 },
 "nbformat": 4,
 "nbformat_minor": 2
}
