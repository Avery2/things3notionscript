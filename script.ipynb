{
 "cells": [
  {
   "cell_type": "markdown",
   "metadata": {},
   "source": [
    "## Things"
   ]
  },
  {
   "cell_type": "code",
   "execution_count": 87,
   "metadata": {},
   "outputs": [],
   "source": [
    "import things"
   ]
  },
  {
   "cell_type": "code",
   "execution_count": 97,
   "metadata": {},
   "outputs": [],
   "source": [
    "ps = things.projects()\n",
    "# print(ps)\n",
    "x = [_[\"title\"] for _ in ps]\n",
    "# print(*x, sep=\"\\n\")\n",
    "\n",
    "my_playground = [p for p in ps if p[\"title\"] == \"my_playground\"][0]\n",
    "mpt = things.todos(my_playground[\"uuid\"])\n",
    "\n",
    "# print([m for m in mpt])\n",
    "# print(my_playground)\n",
    "things_thoughts = []\n",
    "for item in mpt[\"items\"]:\n",
    "    # print(*item.items(), sep=\"\\n\")\n",
    "    title = item['title']\n",
    "    notes = item['notes']\n",
    "    if not notes:\n",
    "        notes = ''\n",
    "    if title:\n",
    "        things_thoughts.append((title, notes))\n",
    "    # print(title)\n",
    "    # print(notes)\n",
    "# print(*things_thoughts, sep=\"\\n\")"
   ]
  },
  {
   "cell_type": "markdown",
   "metadata": {},
   "source": [
    "## Notion"
   ]
  },
  {
   "cell_type": "code",
   "execution_count": 89,
   "metadata": {},
   "outputs": [],
   "source": [
    "import requests\n",
    "import json\n",
    "import os\n",
    "from dotenv import load_dotenv\n",
    "\n",
    "load_dotenv()\n",
    "\n",
    "my_key = os.getenv(\"DB_ID\")\n",
    "my_token = os.getenv(\"NOTION_TOKEN\")"
   ]
  },
  {
   "cell_type": "code",
   "execution_count": 90,
   "metadata": {},
   "outputs": [],
   "source": [
    "import os\n",
    "from notion_client import Client\n",
    "\n",
    "notion = Client(auth=my_token)\n"
   ]
  },
  {
   "cell_type": "code",
   "execution_count": 93,
   "metadata": {},
   "outputs": [
    {
     "name": "stdout",
     "output_type": "stream",
     "text": [
      "('object', 'database')\n",
      "('id', 'a8579af5-66bd-4622-a2ab-ac3f0ed15eae')\n",
      "('cover', None)\n",
      "('icon', {'type': 'emoji', 'emoji': '🧠'})\n",
      "('created_time', '2021-09-28T01:14:00.000Z')\n",
      "('last_edited_time', '2021-11-30T09:47:00.000Z')\n",
      "('title', [{'type': 'text', 'text': {'content': 'Thought Capture', 'link': None}, 'annotations': {'bold': False, 'italic': False, 'strikethrough': False, 'underline': False, 'code': False, 'color': 'default'}, 'plain_text': 'Thought Capture', 'href': None}])\n",
      "('properties', {'Tags': {'id': 'y%5BNk', 'name': 'Tags', 'type': 'multi_select', 'multi_select': {'options': [{'id': '32109d2d-5fa8-4ce4-8eb4-676a7831d96c', 'name': 'Seed', 'color': 'brown'}, {'id': 'e8ba61cd-3ef1-470b-90e2-4d63516e424b', 'name': 'Plant', 'color': 'green'}, {'id': '8078029f-e2a9-4cb5-a170-661dd1d2bced', 'name': 'Done', 'color': 'green'}, {'id': '06702959-3175-40cc-98b5-6b4eeb3c4c0e', 'name': 'Compost', 'color': 'brown'}, {'id': '3620ba51-c42d-44dc-aac9-a9ed9d682b86', 'name': 'Intentions', 'color': 'blue'}]}}, 'Created': {'id': '%7BAHB', 'name': 'Created', 'type': 'created_time', 'created_time': {}}, 'Name': {'id': 'title', 'name': 'Name', 'type': 'title', 'title': {}}})\n",
      "('parent', {'type': 'workspace', 'workspace': True})\n",
      "('url', 'https://www.notion.so/a8579af566bd4622a2abac3f0ed15eae')\n",
      "\n",
      "('object', 'database')\n",
      "('id', 'a69fd56d-3811-4229-9c11-7829113314cd')\n",
      "('cover', None)\n",
      "('icon', None)\n",
      "('created_time', '2021-11-30T08:27:00.000Z')\n",
      "('last_edited_time', '2021-11-30T09:29:00.000Z')\n",
      "('title', [{'type': 'text', 'text': {'content': 'Test Database', 'link': None}, 'annotations': {'bold': False, 'italic': False, 'strikethrough': False, 'underline': False, 'code': False, 'color': 'default'}, 'plain_text': 'Test Database', 'href': None}])\n",
      "('properties', {'Foo': {'id': '%3Dtcp', 'name': 'Foo', 'type': 'rich_text', 'rich_text': {}}, 'Tags': {'id': 'p%3E%3CU', 'name': 'Tags', 'type': 'multi_select', 'multi_select': {'options': [{'id': 'e4dbb6d5-4670-43f5-8562-477f993efdce', 'name': 'jkljkl', 'color': 'brown'}, {'id': '4a3a2821-2167-4ead-a08d-72cc289ac596', 'name': 'a', 'color': 'yellow'}]}}, 'Name': {'id': 'title', 'name': 'Name', 'type': 'title', 'title': {}}})\n",
      "('parent', {'type': 'page_id', 'page_id': 'ded83dca-e299-439b-ab0f-af7c7a87ce51'})\n",
      "('url', 'https://www.notion.so/a69fd56d381142299c117829113314cd')\n",
      "\n"
     ]
    }
   ],
   "source": [
    "from pprint import pprint\n",
    "\n",
    "# list_users_response = notion.users.list()\n",
    "# pprint(list_users_response)\n",
    "\n",
    "dbs = [db for db in notion.databases.list()['results']]\n",
    "for db in dbs:\n",
    "    print(*db.items(), sep=\"\\n\")\n",
    "    print()\n",
    "\n",
    "notion.databases.retrieve()"
   ]
  },
  {
   "cell_type": "code",
   "execution_count": null,
   "metadata": {},
   "outputs": [],
   "source": []
  }
 ],
 "metadata": {
  "interpreter": {
   "hash": "eb9a3b69315989b71ebfa9a6e5d99cd0b47220ba2e2aefc36423c82f8837c3dc"
  },
  "kernelspec": {
   "display_name": "Python 3.8.5 64-bit ('base': conda)",
   "language": "python",
   "name": "python3"
  },
  "language_info": {
   "codemirror_mode": {
    "name": "ipython",
    "version": 3
   },
   "file_extension": ".py",
   "mimetype": "text/x-python",
   "name": "python",
   "nbconvert_exporter": "python",
   "pygments_lexer": "ipython3",
   "version": "3.8.5"
  },
  "orig_nbformat": 4
 },
 "nbformat": 4,
 "nbformat_minor": 2
}
