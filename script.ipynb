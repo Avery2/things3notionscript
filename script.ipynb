{
 "cells": [
  {
   "cell_type": "code",
   "execution_count": 17,
   "metadata": {},
   "outputs": [],
   "source": [
    "import os\n",
    "from dotenv import load_dotenv\n",
    "import time\n",
    "from notion_client import Client\n",
    "import thingsnotion as tn"
   ]
  },
  {
   "cell_type": "code",
   "execution_count": 18,
   "metadata": {},
   "outputs": [],
   "source": [
    "load_dotenv()\n",
    "my_key = os.getenv(\"DB_ID\")\n",
    "my_token = os.getenv(\"NOTION_TOKEN\")\n",
    "tokenv2 = os.getenv(\"TOKEN_V2\")"
   ]
  },
  {
   "cell_type": "code",
   "execution_count": 19,
   "metadata": {},
   "outputs": [],
   "source": [
    "\n",
    "my_playground = tn.getProject(\"my_playground\")\n",
    "things_thoughts = tn.title_notes(my_playground)\n"
   ]
  },
  {
   "cell_type": "code",
   "execution_count": 26,
   "metadata": {},
   "outputs": [],
   "source": [
    "notion = Client(auth=my_token)\n",
    "\n",
    "# print(*notion.databases.list()['results'], sep=\"\\n\")\n",
    "\n",
    "b = \"Thought Capture\"\n",
    "# b = \"Test Database\"\n",
    "\n",
    "my_database = tn.getDatabase(notion, b)"
   ]
  },
  {
   "cell_type": "code",
   "execution_count": 21,
   "metadata": {},
   "outputs": [],
   "source": [
    "# example_in = \"\"\"# Testing Title\n",
    "\n",
    "# Some *body* text.\n",
    "\n",
    "# Another paragraph.\n",
    "\n",
    "# - List item 1\n",
    "# - List item 2\n",
    "# - List item 3\n",
    "# \"\"\"\n",
    "\n",
    "# print(tn.parse_markdown_to_arr(example_in))\n",
    "# print(*tn.obj_from_md(example_in), sep=\"\\n\")"
   ]
  },
  {
   "cell_type": "code",
   "execution_count": 22,
   "metadata": {},
   "outputs": [],
   "source": [
    "# created_page = tn.create_empty_page(notion, my_database)\n",
    "\n",
    "# CHILDREN = [\n",
    "#     tn.create_heading('Lacinato kale'),\n",
    "#     tn.create_paragraph('Lacinato kale is a variety of kale with a long tradition in Italian cuisine, especially that of Tuscany. It is also known as Tuscan kale, Italian kale, dinosaur kale, kale, flat back kale, palm tree kale, or black Tuscan palm.')\n",
    "# ]\n",
    "\n",
    "# CHILDREN = tn.obj_from_md(example_in)\n",
    "\n",
    "# created_children = notion.blocks.children.append(block_id=created_page['id'], **{\n",
    "#     \"children\": CHILDREN\n",
    "# })"
   ]
  },
  {
   "cell_type": "code",
   "execution_count": 24,
   "metadata": {},
   "outputs": [
    {
     "name": "stdout",
     "output_type": "stream",
     "text": [
      "Number of untitled skipped: 0\n"
     ]
    }
   ],
   "source": [
    "\n",
    "n_skipped_untitled = 0\n",
    "for i, (title, notes) in enumerate(things_thoughts):\n",
    "    if not title:\n",
    "        n_skipped_untitled += 1\n",
    "        continue\n",
    "    created_page = tn.create_empty_page(notion, my_database, title=title)\n",
    "\n",
    "    created_children = notion.blocks.children.append(block_id=created_page['id'], **{\n",
    "        \"children\": tn.obj_from_md(notes)\n",
    "    })\n",
    "print(\"Number of untitled skipped:\", n_skipped_untitled)"
   ]
  },
  {
   "cell_type": "code",
   "execution_count": null,
   "metadata": {},
   "outputs": [],
   "source": []
  }
 ],
 "metadata": {
  "interpreter": {
   "hash": "eb9a3b69315989b71ebfa9a6e5d99cd0b47220ba2e2aefc36423c82f8837c3dc"
  },
  "kernelspec": {
   "display_name": "Python 3.8.5 64-bit ('base': conda)",
   "language": "python",
   "name": "python3"
  },
  "language_info": {
   "codemirror_mode": {
    "name": "ipython",
    "version": 3
   },
   "file_extension": ".py",
   "mimetype": "text/x-python",
   "name": "python",
   "nbconvert_exporter": "python",
   "pygments_lexer": "ipython3",
   "version": "3.8.5"
  },
  "orig_nbformat": 4
 },
 "nbformat": 4,
 "nbformat_minor": 2
}
