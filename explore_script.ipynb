{
 "cells": [
  {
   "cell_type": "markdown",
   "metadata": {},
   "source": [
    "## Things"
   ]
  },
  {
   "cell_type": "code",
   "execution_count": 89,
   "metadata": {},
   "outputs": [],
   "source": [
    "import things"
   ]
  },
  {
   "cell_type": "code",
   "execution_count": 90,
   "metadata": {},
   "outputs": [],
   "source": [
    "ps = things.projects()\n",
    "# print(ps)\n",
    "x = [_[\"title\"] for _ in ps]\n",
    "# print(*x, sep=\"\\n\")\n",
    "\n",
    "my_playground = [p for p in ps if p[\"title\"] == \"my_playground\"][0]\n",
    "mpt = things.todos(my_playground[\"uuid\"])\n",
    "\n",
    "# print([m for m in mpt])\n",
    "# print(my_playground)\n",
    "things_thoughts = []\n",
    "for item in mpt[\"items\"]:\n",
    "    # print(*item.items(), sep=\"\\n\")\n",
    "    title = item['title']\n",
    "    notes = item['notes']\n",
    "    if not notes:\n",
    "        notes = ''\n",
    "    if title:\n",
    "        things_thoughts.append((title, notes))\n",
    "    # print(title)\n",
    "    # print(notes)\n",
    "# print(*things_thoughts, sep=\"\\n\")"
   ]
  },
  {
   "cell_type": "markdown",
   "metadata": {},
   "source": [
    "## Notion"
   ]
  },
  {
   "cell_type": "code",
   "execution_count": 91,
   "metadata": {},
   "outputs": [],
   "source": [
    "import requests\n",
    "import json\n",
    "import os\n",
    "from dotenv import load_dotenv\n",
    "from pprint import pprint\n",
    "import time\n",
    "\n",
    "load_dotenv()\n",
    "\n",
    "my_key = os.getenv(\"DB_ID\")\n",
    "my_token = os.getenv(\"NOTION_TOKEN\")\n",
    "tokenv2 = os.getenv(\"TOKEN_V2\")"
   ]
  },
  {
   "cell_type": "code",
   "execution_count": 92,
   "metadata": {},
   "outputs": [],
   "source": [
    "from notion_client import Client\n",
    "\n",
    "notion = Client(auth=my_token)"
   ]
  },
  {
   "cell_type": "code",
   "execution_count": 93,
   "metadata": {},
   "outputs": [],
   "source": [
    "\n",
    "list_users_response = notion.users.list()\n",
    "# pprint(list_users_response)\n",
    "\n",
    "dbs = [db for db in notion.databases.list()['results']]\n",
    "for db in dbs:\n",
    "    # print(*db.items(), sep=\"\\n\")\n",
    "    # print()\n",
    "    pass\n",
    "\n",
    "# print(dbs[0]['title'][0]['plain_text'])\n",
    "\n",
    "# title_I_want = \"Thought Capture\"\n",
    "title_I_want = \"Test Database\"\n",
    "my_database = list(filter(lambda x: x['title'][0]['plain_text'] == title_I_want, dbs))[0]"
   ]
  },
  {
   "cell_type": "code",
   "execution_count": 94,
   "metadata": {},
   "outputs": [],
   "source": [
    "# print(parent_database['id'])\n",
    "all_pages = notion.databases.query(my_database['id'])"
   ]
  },
  {
   "cell_type": "code",
   "execution_count": 133,
   "metadata": {},
   "outputs": [
    {
     "name": "stdout",
     "output_type": "stream",
     "text": [
      "{'object': 'block', 'id': '6db3111a-583b-4d5e-8d56-ea8304cf5f70', 'created_time': '2021-12-01T01:34:00.000Z', 'last_edited_time': '2021-12-01T01:34:00.000Z', 'has_children': False, 'archived': False, 'type': 'heading_1', 'heading_1': {'text': [{'type': 'text', 'text': {'content': 'sdadsa', 'link': None}, 'annotations': {'bold': False, 'italic': False, 'strikethrough': False, 'underline': False, 'code': False, 'color': 'default'}, 'plain_text': 'sdadsa', 'href': None}]}}\n",
      "{'object': 'block', 'id': 'ac0f2108-30b3-4748-a023-e8f7d4b1e460', 'created_time': '2021-12-01T01:34:00.000Z', 'last_edited_time': '2021-12-01T01:34:00.000Z', 'has_children': False, 'archived': False, 'type': 'paragraph', 'paragraph': {'text': [{'type': 'text', 'text': {'content': 'dsa', 'link': None}, 'annotations': {'bold': False, 'italic': False, 'strikethrough': False, 'underline': False, 'code': False, 'color': 'default'}, 'plain_text': 'dsa', 'href': None}]}}\n",
      "{'object': 'block', 'id': '9e335b7a-e1b9-4d65-804e-6459056fce33', 'created_time': '2021-12-01T01:34:00.000Z', 'last_edited_time': '2021-12-01T01:34:00.000Z', 'has_children': False, 'archived': False, 'type': 'paragraph', 'paragraph': {'text': [{'type': 'text', 'text': {'content': 'sdads', 'link': None}, 'annotations': {'bold': False, 'italic': False, 'strikethrough': False, 'underline': False, 'code': False, 'color': 'default'}, 'plain_text': 'sdads', 'href': None}]}}\n",
      "{'object': 'block', 'id': '6cbd82d5-5cd0-48f8-ab33-026b27a78812', 'created_time': '2021-12-01T01:34:00.000Z', 'last_edited_time': '2021-12-01T01:34:00.000Z', 'has_children': False, 'archived': False, 'type': 'paragraph', 'paragraph': {'text': [{'type': 'text', 'text': {'content': 'da', 'link': None}, 'annotations': {'bold': False, 'italic': False, 'strikethrough': False, 'underline': False, 'code': False, 'color': 'default'}, 'plain_text': 'da', 'href': None}]}}\n",
      "{'object': 'block', 'id': 'fc1911a2-001f-4107-8cc2-144847c3f16b', 'created_time': '2021-12-01T01:34:00.000Z', 'last_edited_time': '2021-12-01T01:34:00.000Z', 'has_children': False, 'archived': False, 'type': 'paragraph', 'paragraph': {'text': [{'type': 'text', 'text': {'content': 's', 'link': None}, 'annotations': {'bold': False, 'italic': False, 'strikethrough': False, 'underline': False, 'code': False, 'color': 'default'}, 'plain_text': 's', 'href': None}]}}\n",
      "{'object': 'block', 'id': 'd11f8c7b-b627-4d76-bb51-e6b8ae37788a', 'created_time': '2021-12-01T01:34:00.000Z', 'last_edited_time': '2021-12-01T01:34:00.000Z', 'has_children': False, 'archived': False, 'type': 'paragraph', 'paragraph': {'text': [{'type': 'text', 'text': {'content': 'ds', 'link': None}, 'annotations': {'bold': False, 'italic': False, 'strikethrough': False, 'underline': False, 'code': False, 'color': 'default'}, 'plain_text': 'ds', 'href': None}]}}\n",
      "{'object': 'block', 'id': '2e943255-a32d-437e-afe6-b18c503b5c8e', 'created_time': '2021-12-01T01:34:00.000Z', 'last_edited_time': '2021-12-01T01:34:00.000Z', 'has_children': False, 'archived': False, 'type': 'paragraph', 'paragraph': {'text': [{'type': 'text', 'text': {'content': 'das', 'link': None}, 'annotations': {'bold': False, 'italic': False, 'strikethrough': False, 'underline': False, 'code': False, 'color': 'default'}, 'plain_text': 'das', 'href': None}]}}\n"
     ]
    }
   ],
   "source": [
    "\n",
    "# print(all_pages['results'][0]['properties'].keys())\n",
    "\n",
    "some_row = all_pages['results'][0]\n",
    "# print(some_row.keys())\n",
    "# print(*some_row.items(), sep=\"\\n\")\n",
    "# print()\n",
    "# print(*some_row['properties'].items(), sep=\"\\n\")\n",
    "\n",
    "# some_page = notion.pages.retrieve(some_row['id'])\n",
    "# print(some_page.keys())\n",
    "# print(*some_page.items(), sep=\"\\n\")\n",
    "\n",
    "children_ = notion.blocks.children.list(some_row['id'])\n",
    "# print(len(children_))\n",
    "list_children = children_['results']\n",
    "print(*list_children, sep=\"\\n\")"
   ]
  },
  {
   "cell_type": "code",
   "execution_count": 96,
   "metadata": {},
   "outputs": [],
   "source": [
    "# # ! This does not work \n",
    "\n",
    "# from notion.client import NotionClient\n",
    "\n",
    "# table_link = \"https://www.notion.so/a8579af566bd4622a2abac3f0ed15eae\"\n",
    "# client = NotionClient(token_v2=tokenv2)\n",
    "# COLLECTION_ID = \"a69fd56d381142299c117829113314cd\"\n",
    "\n",
    "# cv = client.get_collection_view(table_link)\n",
    "# collection = client.get_collection(COLLECTION_ID)"
   ]
  },
  {
   "cell_type": "markdown",
   "metadata": {},
   "source": [
    "Pages are added to a database using the [create a page](https://developers.notion.com/reference-link/post-page) API endpoint."
   ]
  },
  {
   "cell_type": "code",
   "execution_count": 145,
   "metadata": {},
   "outputs": [],
   "source": [
    "parent_database = {\n",
    "    # \"type\": \"database_id\",\n",
    "    \"database_id\": my_database['id']\n",
    "}\n",
    "\n",
    "t = time.strftime(\"%H:%M:%S\", time.localtime())\n",
    "\n",
    "properties = {\n",
    "    \"title\": [{\"type\": \"text\", \"text\": {\"content\": f\"{t}\"}}],\n",
    "}\n",
    "\n",
    "# block = {\n",
    "#     \"object\": \"block\",\n",
    "#     \"id\": \"9bc30ad4-9373-46a5-84ab-0a7845ee52e6\",\n",
    "#     # \"created_time\": \"2021-03-16T16:31:00.000Z\",\n",
    "#     # \"last_edited_time\": \"2021-03-16T16:32:00.000Z\",\n",
    "#     \"has_children\": False,\n",
    "#     \"type\": \"to_do\",\n",
    "#     \"archived\": False,\n",
    "#     \"to_do\": {\n",
    "#         \"text\": [\n",
    "#           {\n",
    "#               \"type\": \"text\",\n",
    "#               \"text\": {\n",
    "#                   \"content\": \"Lacinato kale\",\n",
    "#                   \"link\": None\n",
    "#               },\n",
    "#               \"annotations\": {\n",
    "#                   \"bold\": False,\n",
    "#                   \"italic\": False,\n",
    "#                   \"strikethrough\": False,\n",
    "#                   \"underline\": False,\n",
    "#                   \"code\": False,\n",
    "#                   \"color\": \"default\"\n",
    "#               },\n",
    "#               \"plain_text\": \"Lacinato kale\",\n",
    "#               \"href\": None\n",
    "#           }\n",
    "#         ],\n",
    "#         \"checked\": False\n",
    "#     }\n",
    "# }\n",
    "\n",
    "children = [\n",
    "    {\n",
    "        \"object\": 'block',\n",
    "        \"type\": 'heading_2',\n",
    "        \"heading_2\": {\n",
    "            \"text\": [\n",
    "              {\n",
    "                  \"type\": 'text',\n",
    "                  \"text\": {\n",
    "                      \"content\": 'Lacinato kale',\n",
    "                  },\n",
    "              },\n",
    "            ],\n",
    "        },\n",
    "    },\n",
    "    {\n",
    "        \"object\": 'block',\n",
    "        \"type\": 'paragraph',\n",
    "        \"paragraph\": {\n",
    "            \"text\": [\n",
    "              {\n",
    "                  \"type\": 'text',\n",
    "                  \"text\": {\n",
    "                      \"content\": 'Lacinato kale is a variety of kale with a long tradition in Italian cuisine, especially that of Tuscany. It is also known as Tuscan kale, Italian kale, dinosaur kale, kale, flat back kale, palm tree kale, or black Tuscan palm.',\n",
    "                      \"link\": {\n",
    "                          \"url\": 'https://en.wikipedia.org/wiki/Lacinato_kale',\n",
    "                      },\n",
    "                  },\n",
    "              },\n",
    "            ],\n",
    "        },\n",
    "    },\n",
    "]\n"
   ]
  },
  {
   "cell_type": "code",
   "execution_count": 146,
   "metadata": {},
   "outputs": [
    {
     "data": {
      "text/plain": [
       "{'object': 'list',\n",
       " 'results': [{'object': 'block',\n",
       "   'id': '52702e67-cba2-4f24-b8fa-cff557879fc1',\n",
       "   'created_time': '2021-12-01T02:47:00.000Z',\n",
       "   'last_edited_time': '2021-12-01T02:47:00.000Z',\n",
       "   'has_children': False,\n",
       "   'archived': False,\n",
       "   'type': 'heading_2',\n",
       "   'heading_2': {'text': [{'type': 'text',\n",
       "      'text': {'content': 'Lacinato kale', 'link': None},\n",
       "      'annotations': {'bold': False,\n",
       "       'italic': False,\n",
       "       'strikethrough': False,\n",
       "       'underline': False,\n",
       "       'code': False,\n",
       "       'color': 'default'},\n",
       "      'plain_text': 'Lacinato kale',\n",
       "      'href': None}]}},\n",
       "  {'object': 'block',\n",
       "   'id': '3b3cc449-9c63-43bb-ada3-6a370c055473',\n",
       "   'created_time': '2021-12-01T02:47:00.000Z',\n",
       "   'last_edited_time': '2021-12-01T02:47:00.000Z',\n",
       "   'has_children': False,\n",
       "   'archived': False,\n",
       "   'type': 'paragraph',\n",
       "   'paragraph': {'text': [{'type': 'text',\n",
       "      'text': {'content': 'Lacinato kale is a variety of kale with a long tradition in Italian cuisine, especially that of Tuscany. It is also known as Tuscan kale, Italian kale, dinosaur kale, kale, flat back kale, palm tree kale, or black Tuscan palm.',\n",
       "       'link': {'url': 'https://en.wikipedia.org/wiki/Lacinato_kale'}},\n",
       "      'annotations': {'bold': False,\n",
       "       'italic': False,\n",
       "       'strikethrough': False,\n",
       "       'underline': False,\n",
       "       'code': False,\n",
       "       'color': 'default'},\n",
       "      'plain_text': 'Lacinato kale is a variety of kale with a long tradition in Italian cuisine, especially that of Tuscany. It is also known as Tuscan kale, Italian kale, dinosaur kale, kale, flat back kale, palm tree kale, or black Tuscan palm.',\n",
       "      'href': 'https://en.wikipedia.org/wiki/Lacinato_kale'}]}}],\n",
       " 'next_cursor': None,\n",
       " 'has_more': False}"
      ]
     },
     "execution_count": 146,
     "metadata": {},
     "output_type": "execute_result"
    }
   ],
   "source": [
    "created_page = notion.pages.create(\n",
    "    **{\n",
    "        \"parent\": parent_database,\n",
    "        # \"properties\": properties\n",
    "        # \"database_id\": my_database['id'],\n",
    "        \"properties\": properties\n",
    "    }\n",
    ")\n",
    "# created_page['id']\n",
    "notion.blocks.children.append(block_id=created_page['id'], **{\n",
    "    \"children\": children\n",
    "})\n"
   ]
  },
  {
   "cell_type": "code",
   "execution_count": null,
   "metadata": {},
   "outputs": [],
   "source": []
  }
 ],
 "metadata": {
  "interpreter": {
   "hash": "eb9a3b69315989b71ebfa9a6e5d99cd0b47220ba2e2aefc36423c82f8837c3dc"
  },
  "kernelspec": {
   "display_name": "Python 3.8.5 64-bit ('base': conda)",
   "language": "python",
   "name": "python3"
  },
  "language_info": {
   "codemirror_mode": {
    "name": "ipython",
    "version": 3
   },
   "file_extension": ".py",
   "mimetype": "text/x-python",
   "name": "python",
   "nbconvert_exporter": "python",
   "pygments_lexer": "ipython3",
   "version": "3.8.5"
  },
  "orig_nbformat": 4
 },
 "nbformat": 4,
 "nbformat_minor": 2
}
